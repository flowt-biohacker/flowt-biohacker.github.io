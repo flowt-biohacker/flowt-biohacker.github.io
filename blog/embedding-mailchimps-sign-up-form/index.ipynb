{
 "cells": [
  {
   "cell_type": "markdown",
   "metadata": {},
   "source": [
    "# Want to receive updates from me? Subscribe below!"
   ]
  },
  {
   "cell_type": "code",
   "execution_count": 19,
   "metadata": {
    "collapsed": false
   },
   "outputs": [],
   "source": [
    "html_string = '<link href=\"//cdn-images.mailchimp.com/embedcode/slim-10_7.css\" rel=\"stylesheet\" type=\"text/css\">\\\n",
    "<style type=\"text/css\">\\\n",
    "\t#mc_embed_signup{background:#fff; clear:left; font:14px Helvetica,Arial,sans-serif; }\\\n",
    "</style>\\\n",
    "<div id=\"mc_embed_signup\">\\\n",
    "<form action=\"//github.us14.list-manage.com/subscribe/post?u=324739f7480162ee8cad453b8&amp;id=6f694b24ee\" method=\"post\" id=\"mc-embedded-subscribe-form\" name=\"mc-embedded-subscribe-form\" class=\"validate\" target=\"_blank\" novalidate>\\\n",
    "    <div id=\"mc_embed_signup_scroll\">\\\n",
    "\t<label for=\"mce-EMAIL\">Subscribe to our mailing list</label>\\\n",
    "\t<input type=\"email\" value=\"\" name=\"EMAIL\" class=\"email\" id=\"mce-EMAIL\" placeholder=\"email address\" required>\\\n",
    "    <!-- real people should not fill this in and expect good things - do not remove this or risk form bot signups-->\\\n",
    "    <div style=\"position: absolute; left: -5000px;\" aria-hidden=\"true\"><input type=\"text\" name=\"b_324739f7480162ee8cad453b8_6f694b24ee\" tabindex=\"-1\" value=\"\"></div>\\\n",
    "    <div class=\"clear\"><input type=\"submit\" value=\"Subscribe\" name=\"subscribe\" id=\"mc-embedded-subscribe\" class=\"button\"></div>\\\n",
    "    </div>\\\n",
    "</form>\\\n",
    "</div>\\\n",
    "<!--End mc_embed_signup-->'"
   ]
  },
  {
   "cell_type": "code",
   "execution_count": 20,
   "metadata": {
    "collapsed": false
   },
   "outputs": [
    {
     "data": {
      "text/html": [
       "<link href=\"//cdn-images.mailchimp.com/embedcode/slim-10_7.css\" rel=\"stylesheet\" type=\"text/css\"><style type=\"text/css\">\t#mc_embed_signup{background:#fff; clear:left; font:14px Helvetica,Arial,sans-serif; }</style><div id=\"mc_embed_signup\"><form action=\"//github.us14.list-manage.com/subscribe/post?u=324739f7480162ee8cad453b8&amp;id=6f694b24ee\" method=\"post\" id=\"mc-embedded-subscribe-form\" name=\"mc-embedded-subscribe-form\" class=\"validate\" target=\"_blank\" novalidate>    <div id=\"mc_embed_signup_scroll\">\t<label for=\"mce-EMAIL\">Subscribe to our mailing list</label>\t<input type=\"email\" value=\"\" name=\"EMAIL\" class=\"email\" id=\"mce-EMAIL\" placeholder=\"email address\" required>    <!-- real people should not fill this in and expect good things - do not remove this or risk form bot signups-->    <div style=\"position: absolute; left: -5000px;\" aria-hidden=\"true\"><input type=\"text\" name=\"b_324739f7480162ee8cad453b8_6f694b24ee\" tabindex=\"-1\" value=\"\"></div>    <div class=\"clear\"><input type=\"submit\" value=\"Subscribe\" name=\"subscribe\" id=\"mc-embedded-subscribe\" class=\"button\"></div>    </div></form></div><!--End mc_embed_signup-->"
      ],
      "text/plain": [
       "<IPython.core.display.HTML object>"
      ]
     },
     "metadata": {},
     "output_type": "display_data"
    }
   ],
   "source": [
    "from IPython.core.display import display, HTML\n",
    "display(HTML(html_string))"
   ]
  }
 ],
 "metadata": {
  "kernelspec": {
   "display_name": "Python 3",
   "language": "python",
   "name": "python3"
  },
  "language_info": {
   "codemirror_mode": {
    "name": "ipython",
    "version": 3
   },
   "file_extension": ".py",
   "mimetype": "text/x-python",
   "name": "python",
   "nbconvert_exporter": "python",
   "pygments_lexer": "ipython3",
   "version": "3.5.2"
  },
  "nikola": {
   "category": "",
   "date": "2016-12-20 02:07:20 UTC+07:00",
   "description": "",
   "link": "",
   "slug": "embedding-mailchimps-sign-up-form",
   "tags": "",
   "title": "Embedding mailchimp's sign-up form",
   "type": "text"
  }
 },
 "nbformat": 4,
 "nbformat_minor": 1
}
