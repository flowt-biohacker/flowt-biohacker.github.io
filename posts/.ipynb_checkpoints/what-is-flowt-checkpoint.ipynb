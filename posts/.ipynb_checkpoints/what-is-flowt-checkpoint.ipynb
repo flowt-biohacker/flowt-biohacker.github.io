{
 "cells": [
  {
   "cell_type": "markdown",
   "metadata": {},
   "source": [
    "## A quick introduction to the \"flowt\" HRV biofeedback app for Android."
   ]
  },
  {
   "cell_type": "code",
   "execution_count": 28,
   "metadata": {
    "collapsed": false
   },
   "outputs": [
    {
     "data": {
      "image/png": "[encoded data removed]",
      "text/plain": [
       "<IPython.core.display.Image object>"
      ]
     },
     "metadata": {
      "image/png": {
       "width": 400
      }
     },
     "output_type": "display_data"
    }
   ],
   "source": [
    "# Here is our banner - and the python code used to display it.\n",
    "from IPython.display import Image, display\n",
    "banner = Image(filename='../files/images/feature_banner.png')\n",
    "banner.width = 400\n",
    "display(banner)"
   ]
  },
  {
   "cell_type": "markdown",
   "metadata": {},
   "source": [
    "### Summary\n",
    "\n",
    "* What: android app that measures pulse, heart rate, etc.\n",
    "* Why: monitor and control physiological stress\n",
    "* How: using your smartphone camera and a technique called photoplethysmography (PPG)"
   ]
  },
  {
   "cell_type": "markdown",
   "metadata": {},
   "source": [
    "[Download Link](https://play.google.com/apps/testing/com.martianwearables.hrv_flowt)"
   ]
  },
  {
   "cell_type": "markdown",
   "metadata": {},
   "source": [
    "### The full scoop"
   ]
  },
  {
   "cell_type": "markdown",
   "metadata": {},
   "source": [
    "I recently published the Alpha version of a heart rate variability diasgnostic and biofeedback application for Android called \"flowt\". This app makes use of a technique called photoplyethysmography (PPG) in order to measure your pulse, along with various derived statistics, using only your smartphone camera. Details on how PPG are works will come in a later post, for now I'll skip them and get straight to why *flowt* is valuable.   \n",
    "\n",
    "The infamous \"fight or flight\" reaction is familiar to anybody with a pulse. Common symptoms include cold, sweaty hands, increased heart rate, and anxious, racing thoughts. In addition to being uncomfortable, stress has a detrimental impact on many areas of life including cognitive performance, social performance, and cardiac health. In order to help you manage stress, flowt uses a biomarker called Heart Rate Variability. Heart Rate Variability (HRV) is a statistic calculated from your pulse which serves as a quantitative measurement of stress. Specialized equipent exists for taking HRV measurements, but I wanted to build something that didn'y require purchasing any hardware, so flowt uses only your smart phone camera to measure color changes in your finger which are induced by your heart beat. The measurements from your pulse are combined with your own subjective reports in order to track and control stress in the moment, and over time. The ability to actively control your HRV is acquired through a technique called \"HRV Biofeedback Training\", which I'll call \"flowting\". The ideal behind flowting is simple: we measure your HRV in real-time as you attempt to improve it through timed breathing exercises, such that you get instant feedback on what's working, and how your body is responding. This type of protocol has been shown to improve resting HRV levels, along with other measures of stress including anxiety, c-reactive protein, blood pressure, and more. \n",
    "\n",
    "Wait, but what exactly is \"Heart Rate Variability\"?\n",
    "\n",
    "Heart rate variabiliy (HRV) is a measure of the variation in beat to beat intervals. In other words, your heart rate is not constant, it is always changing, and HRV measures exactly how much it is changes over time. High HRV describes a state when your heart rate changes a lot in a given period of time, this is a actually a good thing! It may seem counter-intuitive, but a highly variable heart rate is characteristic of the \"Rest and Digest\" mode of your nervous system, while low HRV is characteristic of the \"Fight or Flight\" mode. This relationships can be understood in the following way: when you are healthy and stress free, your heart responds flexibly to changes in breathing and other stimuli, whereas when you are stressed, you loose that flexibility and your heart rate becomes more rigid. So by all means, take a deep breath, relax, and flowt on.\n",
    "\n",
    "Note: I consider this application a \"rough draft\", please direct any and all opinions and ideas to flowt.biohacker@gmail.com so that I may use them to improve the app!"
   ]
  },
  {
   "cell_type": "markdown",
   "metadata": {},
   "source": [
    "References and citations coming soon, for now here is link to my notes: [notes](https://docs.google.com/document/d/1ITS_F_Rh_CrSBAEOfuIvQjnm6ks9nUAGjrUBnnvRsWA/edit?usp=sharing)"
   ]
  }
 ],
 "metadata": {
  "kernelspec": {
   "display_name": "Python 3",
   "language": "python",
   "name": "python3"
  },
  "language_info": {
   "codemirror_mode": {
    "name": "ipython",
    "version": 3
   },
   "file_extension": ".py",
   "mimetype": "text/x-python",
   "name": "python",
   "nbconvert_exporter": "python",
   "pygments_lexer": "ipython3",
   "version": "3.5.2"
  },
  "nikola": {
   "category": "",
   "date": "2016-11-25 13:02:57 UTC+07:00",
   "description": "",
   "link": "",
   "slug": "what-is-flowt",
   "tags": "",
   "title": "What is flowt?",
   "type": "text"
  }
 },
 "nbformat": 4,
 "nbformat_minor": 1
}
